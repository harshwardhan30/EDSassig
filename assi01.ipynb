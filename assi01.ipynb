{
  "nbformat": 4,
  "nbformat_minor": 0,
  "metadata": {
    "colab": {
      "provenance": [],
      "authorship_tag": "ABX9TyNGhdhuL7ZdmpcoH/wYXdNM",
      "include_colab_link": true
    },
    "kernelspec": {
      "name": "python3",
      "display_name": "Python 3"
    },
    "language_info": {
      "name": "python"
    }
  },
  "cells": [
    {
      "cell_type": "markdown",
      "metadata": {
        "id": "view-in-github",
        "colab_type": "text"
      },
      "source": [
        "<a href=\"https://colab.research.google.com/github/harshwardhan30/EDSassig/blob/main/assi01.ipynb\" target=\"_parent\"><img src=\"https://colab.research.google.com/assets/colab-badge.svg\" alt=\"Open In Colab\"/></a>"
      ]
    },
    {
      "cell_type": "code",
      "execution_count": null,
      "metadata": {
        "id": "31BxjRsvlF8M"
      },
      "outputs": [],
      "source": [
        "import csv\n",
        "file2 = open(\"PLACEMENT.csv\", 'r')\n",
        "file1 = open(\"RESULT.csv\", 'r')\n",
        "file3 = open(\"student.txt\", 'r')\n",
        "listcurrent = []\n",
        "for i in file1:\n",
        " print(i)\n",
        "print(\"____________________________________________________\")\n",
        "for i in file2:\n",
        " print(i)\n",
        "print(\"____________________________________________________\")\n",
        "for i in file3:\n",
        " print(i)\n",
        "print(\"____________________________________________________\")\n",
        "file2.close()\n",
        "file1.close()\n",
        "file3.close()\n",
        "file2 = open(\"PLACEMENT.csv\", 'r')\n",
        "file1 = open(\"RESULT.csv\", 'r')\n",
        "file3 = open(\"student.txt\", 'r')\n",
        "data1 = list(csv.reader(file1, delimiter=','))\n",
        "data2 = list(csv.reader(file2, delimiter=','))\n",
        "data3 = list(csv.reader(file3, delimiter=','))\n",
        "for i in range(5):\n",
        " listcurrent.append(data1[i] + data2[i] + data3[i])\n",
        "for i in listcurrent:\n",
        " print(i)\n",
        "print(\"____________________________________________________\")\n",
        "b = len(listcurrent)\n",
        "listsal = []\n",
        "for i in range(1, b, 1):\n",
        " listsal.append(int(listcurrent[i][2]))\n",
        "listsal.sort()\n",
        "print(\"stored value are\", listsal)\n",
        "print(\"the highest marks in sub 1 = \", max(listsal))\n",
        "print(\"the lowest marks in sub 1 = \", min(listsal))\n",
        "m = sum(listsal) / len(listsal)\n",
        "print(\"the average marks in sub1 = \", m)\n",
        "print(\"____________________________________________________\")\n",
        "file2.close()\n",
        "file1.close()\n",
        "for i in range(1, b, 1):\n",
        " listsal.append(int(listcurrent[i][3]))\n",
        "listsal.sort()\n",
        "print(\"stored value are\", listsal)\n",
        "print(\"the highest marks in sub 2 = \", max(listsal))\n",
        "print(\"the lowest marks in sub 2 = \", min(listsal))\n",
        "m = sum(listsal) / len(listsal)\n",
        "print(\"the average marks in sub 2 = \", m)\n",
        "print(\"____________________________________________________\")\n",
        "file2.close()\n"
      ]
    }
  ]
}