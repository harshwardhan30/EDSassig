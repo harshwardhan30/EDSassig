{
  "nbformat": 4,
  "nbformat_minor": 0,
  "metadata": {
    "colab": {
      "provenance": [],
      "authorship_tag": "ABX9TyPa7nP4UeQoUZ3vOppcWoTc",
      "include_colab_link": true
    },
    "kernelspec": {
      "name": "python3",
      "display_name": "Python 3"
    },
    "language_info": {
      "name": "python"
    }
  },
  "cells": [
    {
      "cell_type": "markdown",
      "metadata": {
        "id": "view-in-github",
        "colab_type": "text"
      },
      "source": [
        "<a href=\"https://colab.research.google.com/github/harshwardhan30/EDSassig/blob/main/assign04.ipynb\" target=\"_parent\"><img src=\"https://colab.research.google.com/assets/colab-badge.svg\" alt=\"Open In Colab\"/></a>"
      ]
    },
    {
      "cell_type": "code",
      "execution_count": null,
      "metadata": {
        "colab": {
          "base_uri": "https://localhost:8080/",
          "height": 1000
        },
        "id": "uf7qEOx0p2TW",
        "outputId": "39c6170a-91ed-4c24-dbc1-39387c64e1af"
      },
      "outputs": [
        {
          "output_type": "execute_result",
          "data": {
            "text/plain": [
              "               Make                                  Model    Price  Year  \\\n",
              "0             Honda                    Amaze 1.2 VX i-VTEC   505000  2017   \n",
              "1     Maruti Suzuki                        Swift DZire VDI   450000  2014   \n",
              "2           Hyundai                   i10 Magna 1.2 Kappa2   220000  2011   \n",
              "3            Toyota                               Glanza G   799000  2019   \n",
              "4            Toyota        Innova 2.4 VX 7 STR [2016-2020]  1950000  2018   \n",
              "...             ...                                    ...      ...   ...   \n",
              "2054       Mahindra                  XUV500 W8 [2015-2017]   850000  2016   \n",
              "2055        Hyundai                           Eon D-Lite +   275000  2014   \n",
              "2056           Ford            Figo Duratec Petrol ZXI 1.2   240000  2013   \n",
              "2057            BMW  5-Series 520d Luxury Line [2017-2019]  4290000  2018   \n",
              "2058       Mahindra      Bolero Power Plus ZLX [2016-2019]   670000  2017   \n",
              "\n",
              "      Kilometer Fuel Type Transmission    Location   Color   Owner  \\\n",
              "0         87150    Petrol       Manual        Pune    Grey   First   \n",
              "1         75000    Diesel       Manual    Ludhiana   White  Second   \n",
              "2         67000    Petrol       Manual     Lucknow  Maroon   First   \n",
              "3         37500    Petrol       Manual   Mangalore     Red   First   \n",
              "4         69000    Diesel       Manual      Mumbai    Grey   First   \n",
              "...         ...       ...          ...         ...     ...     ...   \n",
              "2054      90300    Diesel       Manual       Surat   White   First   \n",
              "2055      83000    Petrol       Manual   Ahmedabad   White  Second   \n",
              "2056      73000    Petrol       Manual       Thane  Silver   First   \n",
              "2057      60474    Diesel    Automatic  Coimbatore   White   First   \n",
              "2058      72000    Diesel       Manual    Guwahati   White   First   \n",
              "\n",
              "     Seller Type   Engine           Max Power              Max Torque  \\\n",
              "0      Corporate  1198 cc   87 bhp @ 6000 rpm       109 Nm @ 4500 rpm   \n",
              "1     Individual  1248 cc   74 bhp @ 4000 rpm       190 Nm @ 2000 rpm   \n",
              "2     Individual  1197 cc   79 bhp @ 6000 rpm  112.7619 Nm @ 4000 rpm   \n",
              "3     Individual  1197 cc   82 bhp @ 6000 rpm       113 Nm @ 4200 rpm   \n",
              "4     Individual  2393 cc  148 bhp @ 3400 rpm       343 Nm @ 1400 rpm   \n",
              "...          ...      ...                 ...                     ...   \n",
              "2054  Individual  2179 cc  138 bhp @ 3750 rpm       330 Nm @ 1600 rpm   \n",
              "2055  Individual   814 cc   55 bhp @ 5500 rpm        75 Nm @ 4000 rpm   \n",
              "2056  Individual  1196 cc   70 bhp @ 6250 rpm       102 Nm @ 4000 rpm   \n",
              "2057  Individual  1995 cc  188 bhp @ 4000 rpm       400 Nm @ 1750 rpm   \n",
              "2058  Individual  1493 cc   70 bhp @ 3600 rpm       195 Nm @ 1400 rpm   \n",
              "\n",
              "     Drivetrain  Length   Width  Height  Seating Capacity  Fuel Tank Capacity  \n",
              "0           FWD  3990.0  1680.0  1505.0               5.0                35.0  \n",
              "1           FWD  3995.0  1695.0  1555.0               5.0                42.0  \n",
              "2           FWD  3585.0  1595.0  1550.0               5.0                35.0  \n",
              "3           FWD  3995.0  1745.0  1510.0               5.0                37.0  \n",
              "4           RWD  4735.0  1830.0  1795.0               7.0                55.0  \n",
              "...         ...     ...     ...     ...               ...                 ...  \n",
              "2054        FWD  4585.0  1890.0  1785.0               7.0                70.0  \n",
              "2055        FWD  3495.0  1550.0  1500.0               5.0                32.0  \n",
              "2056        FWD  3795.0  1680.0  1427.0               5.0                45.0  \n",
              "2057        RWD  4936.0  1868.0  1479.0               5.0                65.0  \n",
              "2058        RWD  3995.0  1745.0  1880.0               7.0                 NaN  \n",
              "\n",
              "[2059 rows x 20 columns]"
            ],
            "text/html": [
              "\n",
              "  <div id=\"df-25cd8e11-2861-49e6-96da-d64d423d1ae5\">\n",
              "    <div class=\"colab-df-container\">\n",
              "      <div>\n",
              "<style scoped>\n",
              "    .dataframe tbody tr th:only-of-type {\n",
              "        vertical-align: middle;\n",
              "    }\n",
              "\n",
              "    .dataframe tbody tr th {\n",
              "        vertical-align: top;\n",
              "    }\n",
              "\n",
              "    .dataframe thead th {\n",
              "        text-align: right;\n",
              "    }\n",
              "</style>\n",
              "<table border=\"1\" class=\"dataframe\">\n",
              "  <thead>\n",
              "    <tr style=\"text-align: right;\">\n",
              "      <th></th>\n",
              "      <th>Make</th>\n",
              "      <th>Model</th>\n",
              "      <th>Price</th>\n",
              "      <th>Year</th>\n",
              "      <th>Kilometer</th>\n",
              "      <th>Fuel Type</th>\n",
              "      <th>Transmission</th>\n",
              "      <th>Location</th>\n",
              "      <th>Color</th>\n",
              "      <th>Owner</th>\n",
              "      <th>Seller Type</th>\n",
              "      <th>Engine</th>\n",
              "      <th>Max Power</th>\n",
              "      <th>Max Torque</th>\n",
              "      <th>Drivetrain</th>\n",
              "      <th>Length</th>\n",
              "      <th>Width</th>\n",
              "      <th>Height</th>\n",
              "      <th>Seating Capacity</th>\n",
              "      <th>Fuel Tank Capacity</th>\n",
              "    </tr>\n",
              "  </thead>\n",
              "  <tbody>\n",
              "    <tr>\n",
              "      <th>0</th>\n",
              "      <td>Honda</td>\n",
              "      <td>Amaze 1.2 VX i-VTEC</td>\n",
              "      <td>505000</td>\n",
              "      <td>2017</td>\n",
              "      <td>87150</td>\n",
              "      <td>Petrol</td>\n",
              "      <td>Manual</td>\n",
              "      <td>Pune</td>\n",
              "      <td>Grey</td>\n",
              "      <td>First</td>\n",
              "      <td>Corporate</td>\n",
              "      <td>1198 cc</td>\n",
              "      <td>87 bhp @ 6000 rpm</td>\n",
              "      <td>109 Nm @ 4500 rpm</td>\n",
              "      <td>FWD</td>\n",
              "      <td>3990.0</td>\n",
              "      <td>1680.0</td>\n",
              "      <td>1505.0</td>\n",
              "      <td>5.0</td>\n",
              "      <td>35.0</td>\n",
              "    </tr>\n",
              "    <tr>\n",
              "      <th>1</th>\n",
              "      <td>Maruti Suzuki</td>\n",
              "      <td>Swift DZire VDI</td>\n",
              "      <td>450000</td>\n",
              "      <td>2014</td>\n",
              "      <td>75000</td>\n",
              "      <td>Diesel</td>\n",
              "      <td>Manual</td>\n",
              "      <td>Ludhiana</td>\n",
              "      <td>White</td>\n",
              "      <td>Second</td>\n",
              "      <td>Individual</td>\n",
              "      <td>1248 cc</td>\n",
              "      <td>74 bhp @ 4000 rpm</td>\n",
              "      <td>190 Nm @ 2000 rpm</td>\n",
              "      <td>FWD</td>\n",
              "      <td>3995.0</td>\n",
              "      <td>1695.0</td>\n",
              "      <td>1555.0</td>\n",
              "      <td>5.0</td>\n",
              "      <td>42.0</td>\n",
              "    </tr>\n",
              "    <tr>\n",
              "      <th>2</th>\n",
              "      <td>Hyundai</td>\n",
              "      <td>i10 Magna 1.2 Kappa2</td>\n",
              "      <td>220000</td>\n",
              "      <td>2011</td>\n",
              "      <td>67000</td>\n",
              "      <td>Petrol</td>\n",
              "      <td>Manual</td>\n",
              "      <td>Lucknow</td>\n",
              "      <td>Maroon</td>\n",
              "      <td>First</td>\n",
              "      <td>Individual</td>\n",
              "      <td>1197 cc</td>\n",
              "      <td>79 bhp @ 6000 rpm</td>\n",
              "      <td>112.7619 Nm @ 4000 rpm</td>\n",
              "      <td>FWD</td>\n",
              "      <td>3585.0</td>\n",
              "      <td>1595.0</td>\n",
              "      <td>1550.0</td>\n",
              "      <td>5.0</td>\n",
              "      <td>35.0</td>\n",
              "    </tr>\n",
              "    <tr>\n",
              "      <th>3</th>\n",
              "      <td>Toyota</td>\n",
              "      <td>Glanza G</td>\n",
              "      <td>799000</td>\n",
              "      <td>2019</td>\n",
              "      <td>37500</td>\n",
              "      <td>Petrol</td>\n",
              "      <td>Manual</td>\n",
              "      <td>Mangalore</td>\n",
              "      <td>Red</td>\n",
              "      <td>First</td>\n",
              "      <td>Individual</td>\n",
              "      <td>1197 cc</td>\n",
              "      <td>82 bhp @ 6000 rpm</td>\n",
              "      <td>113 Nm @ 4200 rpm</td>\n",
              "      <td>FWD</td>\n",
              "      <td>3995.0</td>\n",
              "      <td>1745.0</td>\n",
              "      <td>1510.0</td>\n",
              "      <td>5.0</td>\n",
              "      <td>37.0</td>\n",
              "    </tr>\n",
              "    <tr>\n",
              "      <th>4</th>\n",
              "      <td>Toyota</td>\n",
              "      <td>Innova 2.4 VX 7 STR [2016-2020]</td>\n",
              "      <td>1950000</td>\n",
              "      <td>2018</td>\n",
              "      <td>69000</td>\n",
              "      <td>Diesel</td>\n",
              "      <td>Manual</td>\n",
              "      <td>Mumbai</td>\n",
              "      <td>Grey</td>\n",
              "      <td>First</td>\n",
              "      <td>Individual</td>\n",
              "      <td>2393 cc</td>\n",
              "      <td>148 bhp @ 3400 rpm</td>\n",
              "      <td>343 Nm @ 1400 rpm</td>\n",
              "      <td>RWD</td>\n",
              "      <td>4735.0</td>\n",
              "      <td>1830.0</td>\n",
              "      <td>1795.0</td>\n",
              "      <td>7.0</td>\n",
              "      <td>55.0</td>\n",
              "    </tr>\n",
              "    <tr>\n",
              "      <th>...</th>\n",
              "      <td>...</td>\n",
              "      <td>...</td>\n",
              "      <td>...</td>\n",
              "      <td>...</td>\n",
              "      <td>...</td>\n",
              "      <td>...</td>\n",
              "      <td>...</td>\n",
              "      <td>...</td>\n",
              "      <td>...</td>\n",
              "      <td>...</td>\n",
              "      <td>...</td>\n",
              "      <td>...</td>\n",
              "      <td>...</td>\n",
              "      <td>...</td>\n",
              "      <td>...</td>\n",
              "      <td>...</td>\n",
              "      <td>...</td>\n",
              "      <td>...</td>\n",
              "      <td>...</td>\n",
              "      <td>...</td>\n",
              "    </tr>\n",
              "    <tr>\n",
              "      <th>2054</th>\n",
              "      <td>Mahindra</td>\n",
              "      <td>XUV500 W8 [2015-2017]</td>\n",
              "      <td>850000</td>\n",
              "      <td>2016</td>\n",
              "      <td>90300</td>\n",
              "      <td>Diesel</td>\n",
              "      <td>Manual</td>\n",
              "      <td>Surat</td>\n",
              "      <td>White</td>\n",
              "      <td>First</td>\n",
              "      <td>Individual</td>\n",
              "      <td>2179 cc</td>\n",
              "      <td>138 bhp @ 3750 rpm</td>\n",
              "      <td>330 Nm @ 1600 rpm</td>\n",
              "      <td>FWD</td>\n",
              "      <td>4585.0</td>\n",
              "      <td>1890.0</td>\n",
              "      <td>1785.0</td>\n",
              "      <td>7.0</td>\n",
              "      <td>70.0</td>\n",
              "    </tr>\n",
              "    <tr>\n",
              "      <th>2055</th>\n",
              "      <td>Hyundai</td>\n",
              "      <td>Eon D-Lite +</td>\n",
              "      <td>275000</td>\n",
              "      <td>2014</td>\n",
              "      <td>83000</td>\n",
              "      <td>Petrol</td>\n",
              "      <td>Manual</td>\n",
              "      <td>Ahmedabad</td>\n",
              "      <td>White</td>\n",
              "      <td>Second</td>\n",
              "      <td>Individual</td>\n",
              "      <td>814 cc</td>\n",
              "      <td>55 bhp @ 5500 rpm</td>\n",
              "      <td>75 Nm @ 4000 rpm</td>\n",
              "      <td>FWD</td>\n",
              "      <td>3495.0</td>\n",
              "      <td>1550.0</td>\n",
              "      <td>1500.0</td>\n",
              "      <td>5.0</td>\n",
              "      <td>32.0</td>\n",
              "    </tr>\n",
              "    <tr>\n",
              "      <th>2056</th>\n",
              "      <td>Ford</td>\n",
              "      <td>Figo Duratec Petrol ZXI 1.2</td>\n",
              "      <td>240000</td>\n",
              "      <td>2013</td>\n",
              "      <td>73000</td>\n",
              "      <td>Petrol</td>\n",
              "      <td>Manual</td>\n",
              "      <td>Thane</td>\n",
              "      <td>Silver</td>\n",
              "      <td>First</td>\n",
              "      <td>Individual</td>\n",
              "      <td>1196 cc</td>\n",
              "      <td>70 bhp @ 6250 rpm</td>\n",
              "      <td>102 Nm @ 4000 rpm</td>\n",
              "      <td>FWD</td>\n",
              "      <td>3795.0</td>\n",
              "      <td>1680.0</td>\n",
              "      <td>1427.0</td>\n",
              "      <td>5.0</td>\n",
              "      <td>45.0</td>\n",
              "    </tr>\n",
              "    <tr>\n",
              "      <th>2057</th>\n",
              "      <td>BMW</td>\n",
              "      <td>5-Series 520d Luxury Line [2017-2019]</td>\n",
              "      <td>4290000</td>\n",
              "      <td>2018</td>\n",
              "      <td>60474</td>\n",
              "      <td>Diesel</td>\n",
              "      <td>Automatic</td>\n",
              "      <td>Coimbatore</td>\n",
              "      <td>White</td>\n",
              "      <td>First</td>\n",
              "      <td>Individual</td>\n",
              "      <td>1995 cc</td>\n",
              "      <td>188 bhp @ 4000 rpm</td>\n",
              "      <td>400 Nm @ 1750 rpm</td>\n",
              "      <td>RWD</td>\n",
              "      <td>4936.0</td>\n",
              "      <td>1868.0</td>\n",
              "      <td>1479.0</td>\n",
              "      <td>5.0</td>\n",
              "      <td>65.0</td>\n",
              "    </tr>\n",
              "    <tr>\n",
              "      <th>2058</th>\n",
              "      <td>Mahindra</td>\n",
              "      <td>Bolero Power Plus ZLX [2016-2019]</td>\n",
              "      <td>670000</td>\n",
              "      <td>2017</td>\n",
              "      <td>72000</td>\n",
              "      <td>Diesel</td>\n",
              "      <td>Manual</td>\n",
              "      <td>Guwahati</td>\n",
              "      <td>White</td>\n",
              "      <td>First</td>\n",
              "      <td>Individual</td>\n",
              "      <td>1493 cc</td>\n",
              "      <td>70 bhp @ 3600 rpm</td>\n",
              "      <td>195 Nm @ 1400 rpm</td>\n",
              "      <td>RWD</td>\n",
              "      <td>3995.0</td>\n",
              "      <td>1745.0</td>\n",
              "      <td>1880.0</td>\n",
              "      <td>7.0</td>\n",
              "      <td>NaN</td>\n",
              "    </tr>\n",
              "  </tbody>\n",
              "</table>\n",
              "<p>2059 rows × 20 columns</p>\n",
              "</div>\n",
              "      <button class=\"colab-df-convert\" onclick=\"convertToInteractive('df-25cd8e11-2861-49e6-96da-d64d423d1ae5')\"\n",
              "              title=\"Convert this dataframe to an interactive table.\"\n",
              "              style=\"display:none;\">\n",
              "        \n",
              "  <svg xmlns=\"http://www.w3.org/2000/svg\" height=\"24px\"viewBox=\"0 0 24 24\"\n",
              "       width=\"24px\">\n",
              "    <path d=\"M0 0h24v24H0V0z\" fill=\"none\"/>\n",
              "    <path d=\"M18.56 5.44l.94 2.06.94-2.06 2.06-.94-2.06-.94-.94-2.06-.94 2.06-2.06.94zm-11 1L8.5 8.5l.94-2.06 2.06-.94-2.06-.94L8.5 2.5l-.94 2.06-2.06.94zm10 10l.94 2.06.94-2.06 2.06-.94-2.06-.94-.94-2.06-.94 2.06-2.06.94z\"/><path d=\"M17.41 7.96l-1.37-1.37c-.4-.4-.92-.59-1.43-.59-.52 0-1.04.2-1.43.59L10.3 9.45l-7.72 7.72c-.78.78-.78 2.05 0 2.83L4 21.41c.39.39.9.59 1.41.59.51 0 1.02-.2 1.41-.59l7.78-7.78 2.81-2.81c.8-.78.8-2.07 0-2.86zM5.41 20L4 18.59l7.72-7.72 1.47 1.35L5.41 20z\"/>\n",
              "  </svg>\n",
              "      </button>\n",
              "      \n",
              "  <style>\n",
              "    .colab-df-container {\n",
              "      display:flex;\n",
              "      flex-wrap:wrap;\n",
              "      gap: 12px;\n",
              "    }\n",
              "\n",
              "    .colab-df-convert {\n",
              "      background-color: #E8F0FE;\n",
              "      border: none;\n",
              "      border-radius: 50%;\n",
              "      cursor: pointer;\n",
              "      display: none;\n",
              "      fill: #1967D2;\n",
              "      height: 32px;\n",
              "      padding: 0 0 0 0;\n",
              "      width: 32px;\n",
              "    }\n",
              "\n",
              "    .colab-df-convert:hover {\n",
              "      background-color: #E2EBFA;\n",
              "      box-shadow: 0px 1px 2px rgba(60, 64, 67, 0.3), 0px 1px 3px 1px rgba(60, 64, 67, 0.15);\n",
              "      fill: #174EA6;\n",
              "    }\n",
              "\n",
              "    [theme=dark] .colab-df-convert {\n",
              "      background-color: #3B4455;\n",
              "      fill: #D2E3FC;\n",
              "    }\n",
              "\n",
              "    [theme=dark] .colab-df-convert:hover {\n",
              "      background-color: #434B5C;\n",
              "      box-shadow: 0px 1px 3px 1px rgba(0, 0, 0, 0.15);\n",
              "      filter: drop-shadow(0px 1px 2px rgba(0, 0, 0, 0.3));\n",
              "      fill: #FFFFFF;\n",
              "    }\n",
              "  </style>\n",
              "\n",
              "      <script>\n",
              "        const buttonEl =\n",
              "          document.querySelector('#df-25cd8e11-2861-49e6-96da-d64d423d1ae5 button.colab-df-convert');\n",
              "        buttonEl.style.display =\n",
              "          google.colab.kernel.accessAllowed ? 'block' : 'none';\n",
              "\n",
              "        async function convertToInteractive(key) {\n",
              "          const element = document.querySelector('#df-25cd8e11-2861-49e6-96da-d64d423d1ae5');\n",
              "          const dataTable =\n",
              "            await google.colab.kernel.invokeFunction('convertToInteractive',\n",
              "                                                     [key], {});\n",
              "          if (!dataTable) return;\n",
              "\n",
              "          const docLinkHtml = 'Like what you see? Visit the ' +\n",
              "            '<a target=\"_blank\" href=https://colab.research.google.com/notebooks/data_table.ipynb>data table notebook</a>'\n",
              "            + ' to learn more about interactive tables.';\n",
              "          element.innerHTML = '';\n",
              "          dataTable['output_type'] = 'display_data';\n",
              "          await google.colab.output.renderOutput(dataTable, element);\n",
              "          const docLink = document.createElement('div');\n",
              "          docLink.innerHTML = docLinkHtml;\n",
              "          element.appendChild(docLink);\n",
              "        }\n",
              "      </script>\n",
              "    </div>\n",
              "  </div>\n",
              "  "
            ]
          },
          "metadata": {},
          "execution_count": 4
        }
      ],
      "source": [
        "import pandas as pd\n",
        "df=pd.read_csv('/content/car csv.csv')\n",
        "df"
      ]
    },
    {
      "cell_type": "code",
      "source": [
        "#print name of all car models\n",
        "print(df['Model'])"
      ],
      "metadata": {
        "colab": {
          "base_uri": "https://localhost:8080/"
        },
        "id": "tymItDs7MXlZ",
        "outputId": "d7fb6aad-5a88-4cde-cf04-74486943bcf8"
      },
      "execution_count": null,
      "outputs": [
        {
          "output_type": "stream",
          "name": "stdout",
          "text": [
            "0                         Amaze 1.2 VX i-VTEC\n",
            "1                             Swift DZire VDI\n",
            "2                        i10 Magna 1.2 Kappa2\n",
            "3                                    Glanza G\n",
            "4             Innova 2.4 VX 7 STR [2016-2020]\n",
            "                        ...                  \n",
            "2054                    XUV500 W8 [2015-2017]\n",
            "2055                             Eon D-Lite +\n",
            "2056              Figo Duratec Petrol ZXI 1.2\n",
            "2057    5-Series 520d Luxury Line [2017-2019]\n",
            "2058        Bolero Power Plus ZLX [2016-2019]\n",
            "Name: Model, Length: 2059, dtype: object\n"
          ]
        }
      ]
    },
    {
      "cell_type": "code",
      "source": [
        "#print model wise price\n",
        "print(df[['Model','Price']])"
      ],
      "metadata": {
        "colab": {
          "base_uri": "https://localhost:8080/"
        },
        "id": "866uCm3lNPCQ",
        "outputId": "f2bd758c-5bc1-47b0-c5c0-1e71cbf221a4"
      },
      "execution_count": null,
      "outputs": [
        {
          "output_type": "stream",
          "name": "stdout",
          "text": [
            "                                      Model    Price\n",
            "0                       Amaze 1.2 VX i-VTEC   505000\n",
            "1                           Swift DZire VDI   450000\n",
            "2                      i10 Magna 1.2 Kappa2   220000\n",
            "3                                  Glanza G   799000\n",
            "4           Innova 2.4 VX 7 STR [2016-2020]  1950000\n",
            "...                                     ...      ...\n",
            "2054                  XUV500 W8 [2015-2017]   850000\n",
            "2055                           Eon D-Lite +   275000\n",
            "2056            Figo Duratec Petrol ZXI 1.2   240000\n",
            "2057  5-Series 520d Luxury Line [2017-2019]  4290000\n",
            "2058      Bolero Power Plus ZLX [2016-2019]   670000\n",
            "\n",
            "[2059 rows x 2 columns]\n"
          ]
        }
      ]
    },
    {
      "cell_type": "code",
      "source": [
        "#print model wise engine power\n",
        "print(df[['Model','Engine']])"
      ],
      "metadata": {
        "colab": {
          "base_uri": "https://localhost:8080/"
        },
        "id": "ujXyijmbOGgK",
        "outputId": "2e92a789-c39d-4dc3-9541-d6100ce5d5a2"
      },
      "execution_count": null,
      "outputs": [
        {
          "output_type": "stream",
          "name": "stdout",
          "text": [
            "                                      Model   Engine\n",
            "0                       Amaze 1.2 VX i-VTEC  1198 cc\n",
            "1                           Swift DZire VDI  1248 cc\n",
            "2                      i10 Magna 1.2 Kappa2  1197 cc\n",
            "3                                  Glanza G  1197 cc\n",
            "4           Innova 2.4 VX 7 STR [2016-2020]  2393 cc\n",
            "...                                     ...      ...\n",
            "2054                  XUV500 W8 [2015-2017]  2179 cc\n",
            "2055                           Eon D-Lite +   814 cc\n",
            "2056            Figo Duratec Petrol ZXI 1.2  1196 cc\n",
            "2057  5-Series 520d Luxury Line [2017-2019]  1995 cc\n",
            "2058      Bolero Power Plus ZLX [2016-2019]  1493 cc\n",
            "\n",
            "[2059 rows x 2 columns]\n"
          ]
        }
      ]
    },
    {
      "cell_type": "code",
      "source": [
        "#describe about data\n",
        "print(df.describe())"
      ],
      "metadata": {
        "colab": {
          "base_uri": "https://localhost:8080/"
        },
        "id": "ZlA9QRRpRw4Y",
        "outputId": "979b0493-c944-4c33-e725-420bd34eb718"
      },
      "execution_count": null,
      "outputs": [
        {
          "output_type": "stream",
          "name": "stdout",
          "text": [
            "              Price         Year     Kilometer       Length        Width  \\\n",
            "count  2.059000e+03  2059.000000  2.059000e+03  1995.000000  1995.000000   \n",
            "mean   1.702992e+06  2016.425449  5.422471e+04  4280.860652  1767.991980   \n",
            "std    2.419881e+06     3.363564  5.736172e+04   442.458507   135.265825   \n",
            "min    4.900000e+04  1988.000000  0.000000e+00  3099.000000  1475.000000   \n",
            "25%    4.849990e+05  2014.000000  2.900000e+04  3985.000000  1695.000000   \n",
            "50%    8.250000e+05  2017.000000  5.000000e+04  4370.000000  1770.000000   \n",
            "75%    1.925000e+06  2019.000000  7.200000e+04  4629.000000  1831.500000   \n",
            "max    3.500000e+07  2022.000000  2.000000e+06  5569.000000  2220.000000   \n",
            "\n",
            "            Height  Seating Capacity  Fuel Tank Capacity  \n",
            "count  1995.000000       1995.000000         1946.000000  \n",
            "mean   1591.735338          5.306266           52.002210  \n",
            "std     136.073956          0.822170           15.110198  \n",
            "min    1165.000000          2.000000           15.000000  \n",
            "25%    1485.000000          5.000000           41.250000  \n",
            "50%    1545.000000          5.000000           50.000000  \n",
            "75%    1675.000000          5.000000           60.000000  \n",
            "max    1995.000000          8.000000          105.000000  \n"
          ]
        }
      ]
    },
    {
      "cell_type": "code",
      "source": [
        "#print highest priced car\n",
        "print(df['Price'].max())"
      ],
      "metadata": {
        "colab": {
          "base_uri": "https://localhost:8080/"
        },
        "id": "ajwYXNBpSq1R",
        "outputId": "b185b110-dc0b-48cc-e167-f5e5f82b3104"
      },
      "execution_count": null,
      "outputs": [
        {
          "output_type": "stream",
          "name": "stdout",
          "text": [
            "35000000\n"
          ]
        }
      ]
    },
    {
      "cell_type": "code",
      "source": [
        "#lowest priced car\n",
        "print(df['Price'].min())"
      ],
      "metadata": {
        "colab": {
          "base_uri": "https://localhost:8080/"
        },
        "id": "qezWHVbATGRX",
        "outputId": "c92cd335-f05e-412c-8c80-31f7d1fe3521"
      },
      "execution_count": null,
      "outputs": [
        {
          "output_type": "stream",
          "name": "stdout",
          "text": [
            "49000\n"
          ]
        }
      ]
    },
    {
      "cell_type": "code",
      "source": [
        "#average price of car\n",
        "print(df['Price'].mean())"
      ],
      "metadata": {
        "colab": {
          "base_uri": "https://localhost:8080/"
        },
        "id": "8RXn41l5TQ8I",
        "outputId": "fcc072ed-67a3-41c6-ffca-1109dcc4fcf8"
      },
      "execution_count": null,
      "outputs": [
        {
          "output_type": "stream",
          "name": "stdout",
          "text": [
            "1702991.6964545897\n"
          ]
        }
      ]
    },
    {
      "cell_type": "code",
      "source": [
        "#median of car price in data\n",
        "print(df['Price'].median())"
      ],
      "metadata": {
        "colab": {
          "base_uri": "https://localhost:8080/"
        },
        "id": "SrM6dMi5Vcju",
        "outputId": "66bff7b2-1bdb-4ed2-ddac-8a21dff91c16"
      },
      "execution_count": null,
      "outputs": [
        {
          "output_type": "stream",
          "name": "stdout",
          "text": [
            "825000.0\n"
          ]
        }
      ]
    },
    {
      "cell_type": "code",
      "source": [
        "#highest fuel tank capacity in car\n",
        "print(df['Fuel Tank Capacity'].max())"
      ],
      "metadata": {
        "colab": {
          "base_uri": "https://localhost:8080/"
        },
        "id": "HOYoCG55Vr57",
        "outputId": "4000a410-ab75-4087-e17c-be0166de4ba7"
      },
      "execution_count": null,
      "outputs": [
        {
          "output_type": "stream",
          "name": "stdout",
          "text": [
            "105.0\n"
          ]
        }
      ]
    },
    {
      "cell_type": "code",
      "source": [
        "#number of data\n",
        "print(df.count())"
      ],
      "metadata": {
        "colab": {
          "base_uri": "https://localhost:8080/"
        },
        "id": "CzFLy_ZHWcpo",
        "outputId": "4370a769-e05e-4c7d-cf83-39b9812c03d1"
      },
      "execution_count": null,
      "outputs": [
        {
          "output_type": "stream",
          "name": "stdout",
          "text": [
            "Make                  2059\n",
            "Model                 2059\n",
            "Price                 2059\n",
            "Year                  2059\n",
            "Kilometer             2059\n",
            "Fuel Type             2059\n",
            "Transmission          2059\n",
            "Location              2059\n",
            "Color                 2059\n",
            "Owner                 2059\n",
            "Seller Type           2059\n",
            "Engine                1979\n",
            "Max Power             1979\n",
            "Max Torque            1979\n",
            "Drivetrain            1923\n",
            "Length                1995\n",
            "Width                 1995\n",
            "Height                1995\n",
            "Seating Capacity      1995\n",
            "Fuel Tank Capacity    1946\n",
            "dtype: int64\n"
          ]
        }
      ]
    },
    {
      "cell_type": "code",
      "source": [
        "#model wise count of car\n",
        "print(df['Model'].value_counts())"
      ],
      "metadata": {
        "colab": {
          "base_uri": "https://localhost:8080/"
        },
        "id": "BfQF0eIqWwW8",
        "outputId": "a8f5102f-7134-43fc-8efa-dddd23d0e0cd"
      },
      "execution_count": null,
      "outputs": [
        {
          "output_type": "stream",
          "name": "stdout",
          "text": [
            "X1 sDrive20d xLine                 15\n",
            "Swift DZire VDI                    14\n",
            "City V                             13\n",
            "Fortuner 2.8 4x2 AT [2016-2020]    13\n",
            "Swift DZire VXI                    12\n",
            "                                   ..\n",
            "XF R 5.0 V8 Supercharged            1\n",
            "Pajero SFX 2.8                      1\n",
            "Etios G                             1\n",
            "Marazzo M6 Plus 8 STR               1\n",
            "Figo Duratec Petrol ZXI 1.2         1\n",
            "Name: Model, Length: 1050, dtype: int64\n"
          ]
        }
      ]
    },
    {
      "cell_type": "code",
      "source": [
        "#cars having cost greater than 2500000\n",
        "print(df.loc[df['Price']>2500000])"
      ],
      "metadata": {
        "colab": {
          "base_uri": "https://localhost:8080/"
        },
        "id": "lYkOcG5SXxhu",
        "outputId": "577ef504-2cbd-431e-fd3a-f3721b8bea42"
      },
      "execution_count": null,
      "outputs": [
        {
          "output_type": "stream",
          "name": "stdout",
          "text": [
            "               Make                                    Model    Price  Year  \\\n",
            "7               BMW                     X1 xDrive20d M Sport  2650000  2017   \n",
            "38    Mercedes-Benz                    GLC 220 d Progressive  3850000  2017   \n",
            "56              BMW    X3 xDrive 20d Luxury Line [2018-2020]  3800000  2018   \n",
            "60              BMW                3-Series 320i Luxury Line  2800000  2017   \n",
            "67           Toyota          Fortuner 2.8 4x2 AT [2016-2020]  3499000  2019   \n",
            "...             ...                                      ...      ...   ...   \n",
            "2032     Land Rover       Range Rover Velar 2.0 S Petrol 250  8900000  2020   \n",
            "2043  Mercedes-Benz             C-Class C 220 CDI Avantgarde  2850000  2016   \n",
            "2044       Mahindra  XUV700 AX 7 Petrol AT Luxury Pack 7 STR  2765000  2022   \n",
            "2049  Mercedes-Benz                           GLS 400 4MATIC  5950000  2017   \n",
            "2057            BMW    5-Series 520d Luxury Line [2017-2019]  4290000  2018   \n",
            "\n",
            "      Kilometer Fuel Type Transmission    Location   Color   Owner  \\\n",
            "7         75000    Diesel    Automatic  Coimbatore   White  Second   \n",
            "38        45600    Diesel    Automatic      Mumbai   Black  Second   \n",
            "56         9512    Diesel    Automatic      Mumbai    Blue   First   \n",
            "60        15900    Petrol    Automatic       Delhi   White   First   \n",
            "67        73000    Diesel    Automatic      Mumbai   White   First   \n",
            "...         ...       ...          ...         ...     ...     ...   \n",
            "2032      88000    Petrol    Automatic      Mumbai   White   First   \n",
            "2043      21200    Diesel    Automatic        Pune  Silver   First   \n",
            "2044         75    Petrol    Automatic       Delhi    Blue   First   \n",
            "2049      80000    Petrol    Automatic       Delhi   Black   First   \n",
            "2057      60474    Diesel    Automatic  Coimbatore   White   First   \n",
            "\n",
            "     Seller Type   Engine           Max Power         Max Torque Drivetrain  \\\n",
            "7     Individual  1995 cc  188 bhp @ 4000 rpm  400 Nm @ 1750 rpm        AWD   \n",
            "38    Individual  2143 cc  168 bhp @ 3000 rpm  400 Nm @ 1400 rpm        AWD   \n",
            "56     Corporate  1995 cc  190 bhp @ 4000 rpm  400 Nm @ 1750 rpm        AWD   \n",
            "60    Individual  1998 cc  181 bhp @ 5000 rpm  270 Nm @ 1350 rpm        RWD   \n",
            "67    Individual  2755 cc  174 bhp @ 3400 rpm  450 Nm @ 1600 rpm        RWD   \n",
            "...          ...      ...                 ...                ...        ...   \n",
            "2032  Individual  1997 cc  247 bhp @ 5500 rpm  365 Nm @ 1500 rpm        AWD   \n",
            "2043  Individual  2143 cc  168 bhp @ 3000 rpm  400 Nm @ 1400 rpm        RWD   \n",
            "2044  Individual  1997 cc  197 bhp @ 5000 rpm  380 Nm @ 1750 rpm        FWD   \n",
            "2049  Individual  2996 cc  329 bhp @ 5250 rpm  480 Nm @ 1600 rpm        AWD   \n",
            "2057  Individual  1995 cc  188 bhp @ 4000 rpm  400 Nm @ 1750 rpm        RWD   \n",
            "\n",
            "      Length   Width  Height  Seating Capacity  Fuel Tank Capacity  \n",
            "7     4439.0  1821.0  1612.0               5.0                51.0  \n",
            "38    4656.0  1890.0  1639.0               5.0                66.0  \n",
            "56    4657.0  1881.0  1678.0               5.0                67.0  \n",
            "60    4633.0  1811.0  1429.0               5.0                57.0  \n",
            "67    4795.0  1855.0  1835.0               7.0                80.0  \n",
            "...      ...     ...     ...               ...                 ...  \n",
            "2032  4797.0  2032.0  1665.0               5.0                 NaN  \n",
            "2043  4686.0  1810.0  1442.0               5.0                66.0  \n",
            "2044  4695.0  1890.0  1755.0               7.0                60.0  \n",
            "2049  5130.0  1934.0  1850.0               5.0               100.0  \n",
            "2057  4936.0  1868.0  1479.0               5.0                65.0  \n",
            "\n",
            "[397 rows x 20 columns]\n"
          ]
        }
      ]
    },
    {
      "cell_type": "code",
      "source": [
        "#cars having price less than 1000000\n",
        "print(df.loc[df['Price']<1000000])"
      ],
      "metadata": {
        "colab": {
          "base_uri": "https://localhost:8080/"
        },
        "id": "FDVvrS9oYSOu",
        "outputId": "5b40f25d-615d-4305-f99a-03419206c743"
      },
      "execution_count": null,
      "outputs": [
        {
          "output_type": "stream",
          "name": "stdout",
          "text": [
            "               Make                              Model   Price  Year  \\\n",
            "0             Honda                Amaze 1.2 VX i-VTEC  505000  2017   \n",
            "1     Maruti Suzuki                    Swift DZire VDI  450000  2014   \n",
            "2           Hyundai               i10 Magna 1.2 Kappa2  220000  2011   \n",
            "3            Toyota                           Glanza G  799000  2019   \n",
            "5     Maruti Suzuki                           Ciaz ZXi  675000  2017   \n",
            "...             ...                                ...     ...   ...   \n",
            "2053  Maruti Suzuki               Ritz Vxi (ABS) BS-IV  245000  2014   \n",
            "2054       Mahindra              XUV500 W8 [2015-2017]  850000  2016   \n",
            "2055        Hyundai                       Eon D-Lite +  275000  2014   \n",
            "2056           Ford        Figo Duratec Petrol ZXI 1.2  240000  2013   \n",
            "2058       Mahindra  Bolero Power Plus ZLX [2016-2019]  670000  2017   \n",
            "\n",
            "      Kilometer Fuel Type Transmission   Location   Color   Owner Seller Type  \\\n",
            "0         87150    Petrol       Manual       Pune    Grey   First   Corporate   \n",
            "1         75000    Diesel       Manual   Ludhiana   White  Second  Individual   \n",
            "2         67000    Petrol       Manual    Lucknow  Maroon   First  Individual   \n",
            "3         37500    Petrol       Manual  Mangalore     Red   First  Individual   \n",
            "5         73315    Petrol       Manual       Pune    Grey   First  Individual   \n",
            "...         ...       ...          ...        ...     ...     ...         ...   \n",
            "2053      79000    Petrol       Manual  Faridabad   White  Second  Individual   \n",
            "2054      90300    Diesel       Manual      Surat   White   First  Individual   \n",
            "2055      83000    Petrol       Manual  Ahmedabad   White  Second  Individual   \n",
            "2056      73000    Petrol       Manual      Thane  Silver   First  Individual   \n",
            "2058      72000    Diesel       Manual   Guwahati   White   First  Individual   \n",
            "\n",
            "       Engine           Max Power              Max Torque Drivetrain  Length  \\\n",
            "0     1198 cc   87 bhp @ 6000 rpm       109 Nm @ 4500 rpm        FWD  3990.0   \n",
            "1     1248 cc   74 bhp @ 4000 rpm       190 Nm @ 2000 rpm        FWD  3995.0   \n",
            "2     1197 cc   79 bhp @ 6000 rpm  112.7619 Nm @ 4000 rpm        FWD  3585.0   \n",
            "3     1197 cc   82 bhp @ 6000 rpm       113 Nm @ 4200 rpm        FWD  3995.0   \n",
            "5     1373 cc   91 bhp @ 6000 rpm       130 Nm @ 4000 rpm        FWD  4490.0   \n",
            "...       ...                 ...                     ...        ...     ...   \n",
            "2053  1197 cc   85 bhp @ 6000 rpm       113 Nm @ 4500 rpm        FWD  3775.0   \n",
            "2054  2179 cc  138 bhp @ 3750 rpm       330 Nm @ 1600 rpm        FWD  4585.0   \n",
            "2055   814 cc   55 bhp @ 5500 rpm        75 Nm @ 4000 rpm        FWD  3495.0   \n",
            "2056  1196 cc   70 bhp @ 6250 rpm       102 Nm @ 4000 rpm        FWD  3795.0   \n",
            "2058  1493 cc   70 bhp @ 3600 rpm       195 Nm @ 1400 rpm        RWD  3995.0   \n",
            "\n",
            "       Width  Height  Seating Capacity  Fuel Tank Capacity  \n",
            "0     1680.0  1505.0               5.0                35.0  \n",
            "1     1695.0  1555.0               5.0                42.0  \n",
            "2     1595.0  1550.0               5.0                35.0  \n",
            "3     1745.0  1510.0               5.0                37.0  \n",
            "5     1730.0  1485.0               5.0                43.0  \n",
            "...      ...     ...               ...                 ...  \n",
            "2053  1680.0  1620.0               5.0                43.0  \n",
            "2054  1890.0  1785.0               7.0                70.0  \n",
            "2055  1550.0  1500.0               5.0                32.0  \n",
            "2056  1680.0  1427.0               5.0                45.0  \n",
            "2058  1745.0  1880.0               7.0                 NaN  \n",
            "\n",
            "[1168 rows x 20 columns]\n"
          ]
        }
      ]
    },
    {
      "cell_type": "code",
      "source": [
        "#print first 10 data\n",
        "print(df.head(10))"
      ],
      "metadata": {
        "colab": {
          "base_uri": "https://localhost:8080/"
        },
        "id": "2kTJu3O6Yn7W",
        "outputId": "2b0271c3-1961-444b-87fa-c0cedc87b4cc"
      },
      "execution_count": null,
      "outputs": [
        {
          "output_type": "stream",
          "name": "stdout",
          "text": [
            "            Make                                 Model    Price  Year  \\\n",
            "0          Honda                   Amaze 1.2 VX i-VTEC   505000  2017   \n",
            "1  Maruti Suzuki                       Swift DZire VDI   450000  2014   \n",
            "2        Hyundai                  i10 Magna 1.2 Kappa2   220000  2011   \n",
            "3         Toyota                              Glanza G   799000  2019   \n",
            "4         Toyota       Innova 2.4 VX 7 STR [2016-2020]  1950000  2018   \n",
            "5  Maruti Suzuki                              Ciaz ZXi   675000  2017   \n",
            "6  Mercedes-Benz                  CLA 200 Petrol Sport  1898999  2015   \n",
            "7            BMW                  X1 xDrive20d M Sport  2650000  2017   \n",
            "8          Skoda  Octavia 1.8 TSI Style Plus AT [2017]  1390000  2017   \n",
            "9         Nissan                        Terrano XL (D)   575000  2015   \n",
            "\n",
            "   Kilometer Fuel Type Transmission    Location   Color   Owner Seller Type  \\\n",
            "0      87150    Petrol       Manual        Pune    Grey   First   Corporate   \n",
            "1      75000    Diesel       Manual    Ludhiana   White  Second  Individual   \n",
            "2      67000    Petrol       Manual     Lucknow  Maroon   First  Individual   \n",
            "3      37500    Petrol       Manual   Mangalore     Red   First  Individual   \n",
            "4      69000    Diesel       Manual      Mumbai    Grey   First  Individual   \n",
            "5      73315    Petrol       Manual        Pune    Grey   First  Individual   \n",
            "6      47000    Petrol    Automatic      Mumbai   White  Second  Individual   \n",
            "7      75000    Diesel    Automatic  Coimbatore   White  Second  Individual   \n",
            "8      56000    Petrol    Automatic      Mumbai   White   First  Individual   \n",
            "9      85000    Diesel       Manual      Mumbai   White   First  Individual   \n",
            "\n",
            "    Engine           Max Power              Max Torque Drivetrain  Length  \\\n",
            "0  1198 cc   87 bhp @ 6000 rpm       109 Nm @ 4500 rpm        FWD  3990.0   \n",
            "1  1248 cc   74 bhp @ 4000 rpm       190 Nm @ 2000 rpm        FWD  3995.0   \n",
            "2  1197 cc   79 bhp @ 6000 rpm  112.7619 Nm @ 4000 rpm        FWD  3585.0   \n",
            "3  1197 cc   82 bhp @ 6000 rpm       113 Nm @ 4200 rpm        FWD  3995.0   \n",
            "4  2393 cc  148 bhp @ 3400 rpm       343 Nm @ 1400 rpm        RWD  4735.0   \n",
            "5  1373 cc   91 bhp @ 6000 rpm       130 Nm @ 4000 rpm        FWD  4490.0   \n",
            "6  1991 cc  181 bhp @ 5500 rpm       300 Nm @ 1200 rpm        FWD  4630.0   \n",
            "7  1995 cc  188 bhp @ 4000 rpm       400 Nm @ 1750 rpm        AWD  4439.0   \n",
            "8  1798 cc  177 bhp @ 5100 rpm       250 Nm @ 1250 rpm        FWD  4670.0   \n",
            "9  1461 cc   84 bhp @ 3750 rpm       200 Nm @ 1900 rpm        FWD  4331.0   \n",
            "\n",
            "    Width  Height  Seating Capacity  Fuel Tank Capacity  \n",
            "0  1680.0  1505.0               5.0                35.0  \n",
            "1  1695.0  1555.0               5.0                42.0  \n",
            "2  1595.0  1550.0               5.0                35.0  \n",
            "3  1745.0  1510.0               5.0                37.0  \n",
            "4  1830.0  1795.0               7.0                55.0  \n",
            "5  1730.0  1485.0               5.0                43.0  \n",
            "6  1777.0  1432.0               5.0                 NaN  \n",
            "7  1821.0  1612.0               5.0                51.0  \n",
            "8  1814.0  1476.0               5.0                50.0  \n",
            "9  1822.0  1671.0               5.0                50.0  \n"
          ]
        }
      ]
    },
    {
      "cell_type": "code",
      "source": [
        "#print last 10 data\n",
        "print(df.tail(10))"
      ],
      "metadata": {
        "colab": {
          "base_uri": "https://localhost:8080/"
        },
        "id": "AwdfA6VLZJqQ",
        "outputId": "4b4b2d7d-06bb-49c7-b0ee-29f7ea6d8761"
      },
      "execution_count": null,
      "outputs": [
        {
          "output_type": "stream",
          "name": "stdout",
          "text": [
            "               Make                                  Model    Price  Year  \\\n",
            "2049  Mercedes-Benz                         GLS 400 4MATIC  5950000  2017   \n",
            "2050        Hyundai              Creta SX Plus 1.6  Petrol   891000  2016   \n",
            "2051  Maruti Suzuki                      Vitara Brezza VXi   925000  2021   \n",
            "2052        Hyundai                    i20 Sportz 1.4 CRDI   409999  2014   \n",
            "2053  Maruti Suzuki                   Ritz Vxi (ABS) BS-IV   245000  2014   \n",
            "2054       Mahindra                  XUV500 W8 [2015-2017]   850000  2016   \n",
            "2055        Hyundai                           Eon D-Lite +   275000  2014   \n",
            "2056           Ford            Figo Duratec Petrol ZXI 1.2   240000  2013   \n",
            "2057            BMW  5-Series 520d Luxury Line [2017-2019]  4290000  2018   \n",
            "2058       Mahindra      Bolero Power Plus ZLX [2016-2019]   670000  2017   \n",
            "\n",
            "      Kilometer Fuel Type Transmission    Location   Color   Owner  \\\n",
            "2049      80000    Petrol    Automatic       Delhi   Black   First   \n",
            "2050      47000    Petrol       Manual       Delhi   White   First   \n",
            "2051      48000    Petrol       Manual   Bangalore   White   First   \n",
            "2052      68000    Diesel       Manual        Agra  Silver   First   \n",
            "2053      79000    Petrol       Manual   Faridabad   White  Second   \n",
            "2054      90300    Diesel       Manual       Surat   White   First   \n",
            "2055      83000    Petrol       Manual   Ahmedabad   White  Second   \n",
            "2056      73000    Petrol       Manual       Thane  Silver   First   \n",
            "2057      60474    Diesel    Automatic  Coimbatore   White   First   \n",
            "2058      72000    Diesel       Manual    Guwahati   White   First   \n",
            "\n",
            "     Seller Type   Engine           Max Power         Max Torque Drivetrain  \\\n",
            "2049  Individual  2996 cc  329 bhp @ 5250 rpm  480 Nm @ 1600 rpm        AWD   \n",
            "2050  Individual  1591 cc  122 bhp @ 6400 rpm  154 Nm @ 4850 rpm        FWD   \n",
            "2051  Individual  1462 cc  103 bhp @ 6000 rpm  138 Nm @ 4400 rpm        FWD   \n",
            "2052  Individual  1396 cc             90@4000           220@1750        NaN   \n",
            "2053  Individual  1197 cc   85 bhp @ 6000 rpm  113 Nm @ 4500 rpm        FWD   \n",
            "2054  Individual  2179 cc  138 bhp @ 3750 rpm  330 Nm @ 1600 rpm        FWD   \n",
            "2055  Individual   814 cc   55 bhp @ 5500 rpm   75 Nm @ 4000 rpm        FWD   \n",
            "2056  Individual  1196 cc   70 bhp @ 6250 rpm  102 Nm @ 4000 rpm        FWD   \n",
            "2057  Individual  1995 cc  188 bhp @ 4000 rpm  400 Nm @ 1750 rpm        RWD   \n",
            "2058  Individual  1493 cc   70 bhp @ 3600 rpm  195 Nm @ 1400 rpm        RWD   \n",
            "\n",
            "      Length   Width  Height  Seating Capacity  Fuel Tank Capacity  \n",
            "2049  5130.0  1934.0  1850.0               5.0               100.0  \n",
            "2050  4270.0  1780.0  1630.0               5.0                60.0  \n",
            "2051  3995.0  1790.0  1640.0               5.0                48.0  \n",
            "2052  3940.0  1710.0  1505.0               5.0                45.0  \n",
            "2053  3775.0  1680.0  1620.0               5.0                43.0  \n",
            "2054  4585.0  1890.0  1785.0               7.0                70.0  \n",
            "2055  3495.0  1550.0  1500.0               5.0                32.0  \n",
            "2056  3795.0  1680.0  1427.0               5.0                45.0  \n",
            "2057  4936.0  1868.0  1479.0               5.0                65.0  \n",
            "2058  3995.0  1745.0  1880.0               7.0                 NaN  \n"
          ]
        }
      ]
    },
    {
      "cell_type": "code",
      "source": [
        "#car from year 2017\n",
        "print(df.groupby('Year').get_group(2017))"
      ],
      "metadata": {
        "colab": {
          "base_uri": "https://localhost:8080/"
        },
        "id": "mVDY5nt6Z15k",
        "outputId": "dc3cd49e-b107-409e-c37e-d17e10a296ca"
      },
      "execution_count": null,
      "outputs": [
        {
          "output_type": "stream",
          "name": "stdout",
          "text": [
            "               Make                                        Model    Price  \\\n",
            "0             Honda                          Amaze 1.2 VX i-VTEC   505000   \n",
            "5     Maruti Suzuki                                     Ciaz ZXi   675000   \n",
            "7               BMW                         X1 xDrive20d M Sport  2650000   \n",
            "8             Skoda         Octavia 1.8 TSI Style Plus AT [2017]  1390000   \n",
            "10          Hyundai                         Elite i20 Sportz 1.2   591000   \n",
            "...             ...                                          ...      ...   \n",
            "1998  Maruti Suzuki                            Ciaz Alpha 1.4 AT   725000   \n",
            "1999        Hyundai  Grand i10 Sportz 1.2 Kappa VTVT [2016-2017]   400000   \n",
            "2010           Audi                   A4 30 TFSI Technology Pack  3000000   \n",
            "2049  Mercedes-Benz                               GLS 400 4MATIC  5950000   \n",
            "2058       Mahindra            Bolero Power Plus ZLX [2016-2019]   670000   \n",
            "\n",
            "      Year  Kilometer Fuel Type Transmission    Location  Color   Owner  \\\n",
            "0     2017      87150    Petrol       Manual        Pune   Grey   First   \n",
            "5     2017      73315    Petrol       Manual        Pune   Grey   First   \n",
            "7     2017      75000    Diesel    Automatic  Coimbatore  White  Second   \n",
            "8     2017      56000    Petrol    Automatic      Mumbai  White   First   \n",
            "10    2017      20281    Petrol       Manual      Mumbai    Red   First   \n",
            "...    ...        ...       ...          ...         ...    ...     ...   \n",
            "1998  2017      55000    Petrol    Automatic       Noida  White   First   \n",
            "1999  2017      35000    Petrol       Manual     Kolkata   Blue   First   \n",
            "2010  2017      42000    Petrol    Automatic        Pune  White   First   \n",
            "2049  2017      80000    Petrol    Automatic       Delhi  Black   First   \n",
            "2058  2017      72000    Diesel       Manual    Guwahati  White   First   \n",
            "\n",
            "     Seller Type   Engine           Max Power         Max Torque Drivetrain  \\\n",
            "0      Corporate  1198 cc   87 bhp @ 6000 rpm  109 Nm @ 4500 rpm        FWD   \n",
            "5     Individual  1373 cc   91 bhp @ 6000 rpm  130 Nm @ 4000 rpm        FWD   \n",
            "7     Individual  1995 cc  188 bhp @ 4000 rpm  400 Nm @ 1750 rpm        AWD   \n",
            "8     Individual  1798 cc  177 bhp @ 5100 rpm  250 Nm @ 1250 rpm        FWD   \n",
            "10    Individual  1197 cc   82 bhp @ 6000 rpm  115 Nm @ 4000 rpm        FWD   \n",
            "...          ...      ...                 ...                ...        ...   \n",
            "1998  Individual  1373 cc   91 bhp @ 6000 rpm  130 Nm @ 4000 rpm        FWD   \n",
            "1999  Individual  1197 cc   81 bhp @ 6000 rpm  114 Nm @ 4000 rpm        FWD   \n",
            "2010  Individual  1395 cc  148 bhp @ 5000 rpm  250 Nm @ 1500 rpm        FWD   \n",
            "2049  Individual  2996 cc  329 bhp @ 5250 rpm  480 Nm @ 1600 rpm        AWD   \n",
            "2058  Individual  1493 cc   70 bhp @ 3600 rpm  195 Nm @ 1400 rpm        RWD   \n",
            "\n",
            "      Length   Width  Height  Seating Capacity  Fuel Tank Capacity  \n",
            "0     3990.0  1680.0  1505.0               5.0                35.0  \n",
            "5     4490.0  1730.0  1485.0               5.0                43.0  \n",
            "7     4439.0  1821.0  1612.0               5.0                51.0  \n",
            "8     4670.0  1814.0  1476.0               5.0                50.0  \n",
            "10    3985.0  1734.0  1505.0               5.0                45.0  \n",
            "...      ...     ...     ...               ...                 ...  \n",
            "1998  4490.0  1730.0  1485.0               5.0                43.0  \n",
            "1999  3765.0  1660.0  1520.0               5.0                43.0  \n",
            "2010  4726.0  1842.0  1427.0               5.0                54.0  \n",
            "2049  5130.0  1934.0  1850.0               5.0               100.0  \n",
            "2058  3995.0  1745.0  1880.0               7.0                 NaN  \n",
            "\n",
            "[262 rows x 20 columns]\n"
          ]
        }
      ]
    },
    {
      "cell_type": "code",
      "source": [
        "#number of blank data spaces\n",
        "df.isna().sum()"
      ],
      "metadata": {
        "colab": {
          "base_uri": "https://localhost:8080/"
        },
        "id": "bzgZnk7Pa1Sa",
        "outputId": "56ee2b51-4b26-4972-dafb-bc07d37ef9c6"
      },
      "execution_count": null,
      "outputs": [
        {
          "output_type": "execute_result",
          "data": {
            "text/plain": [
              "Make                    0\n",
              "Model                   0\n",
              "Price                   0\n",
              "Year                    0\n",
              "Kilometer               0\n",
              "Fuel Type               0\n",
              "Transmission            0\n",
              "Location                0\n",
              "Color                   0\n",
              "Owner                   0\n",
              "Seller Type             0\n",
              "Engine                 80\n",
              "Max Power              80\n",
              "Max Torque             80\n",
              "Drivetrain            136\n",
              "Length                 64\n",
              "Width                  64\n",
              "Height                 64\n",
              "Seating Capacity       64\n",
              "Fuel Tank Capacity    113\n",
              "dtype: int64"
            ]
          },
          "metadata": {},
          "execution_count": 26
        }
      ]
    },
    {
      "cell_type": "code",
      "source": [
        "#types used in data\n",
        "df.dtypes"
      ],
      "metadata": {
        "colab": {
          "base_uri": "https://localhost:8080/"
        },
        "id": "GGKnRlk2cNb4",
        "outputId": "d6a28db9-c9a7-4ca7-b64e-331c11c009b4"
      },
      "execution_count": null,
      "outputs": [
        {
          "output_type": "execute_result",
          "data": {
            "text/plain": [
              "Make                   object\n",
              "Model                  object\n",
              "Price                   int64\n",
              "Year                    int64\n",
              "Kilometer               int64\n",
              "Fuel Type              object\n",
              "Transmission           object\n",
              "Location               object\n",
              "Color                  object\n",
              "Owner                  object\n",
              "Seller Type            object\n",
              "Engine                 object\n",
              "Max Power              object\n",
              "Max Torque             object\n",
              "Drivetrain             object\n",
              "Length                float64\n",
              "Width                 float64\n",
              "Height                float64\n",
              "Seating Capacity      float64\n",
              "Fuel Tank Capacity    float64\n",
              "dtype: object"
            ]
          },
          "metadata": {},
          "execution_count": 27
        }
      ]
    },
    {
      "cell_type": "code",
      "source": [],
      "metadata": {
        "id": "e_J54HLxunAF"
      },
      "execution_count": null,
      "outputs": []
    },
    {
      "cell_type": "code",
      "source": [
        "#location wise information about price\n",
        "a=df.groupby('Location').agg({'Price':['sum','min','max','count']})\n",
        "a"
      ],
      "metadata": {
        "colab": {
          "base_uri": "https://localhost:8080/",
          "height": 486
        },
        "id": "dmeCom2Mc6Sa",
        "outputId": "2713162d-eda6-4f7e-d0be-5e22d16c7237"
      },
      "execution_count": null,
      "outputs": [
        {
          "output_type": "execute_result",
          "data": {
            "text/plain": [
              "                  Price                       \n",
              "                    sum     min      max count\n",
              "Location                                      \n",
              "Agra           14988999  220000  2425000    19\n",
              "Ahmedabad     105507998  275000  8500000    70\n",
              "Allahabad       2100000  275000   750000     4\n",
              "Ambala Cantt    5020000  155000   725000    12\n",
              "Amritsar        1935000  315000   725000     4\n",
              "...                 ...     ...      ...   ...\n",
              "Valsad           580000  580000   580000     1\n",
              "Varanasi       13414999  160000  1421000    24\n",
              "Warangal        1545000  350000   695000     3\n",
              "Yamunanagar     4765000  140000  1700000     6\n",
              "Zirakpur        9984998  295000  1750000    15\n",
              "\n",
              "[77 rows x 4 columns]"
            ],
            "text/html": [
              "\n",
              "  <div id=\"df-175ac486-de5e-4c1b-8250-46e2ba83299d\">\n",
              "    <div class=\"colab-df-container\">\n",
              "      <div>\n",
              "<style scoped>\n",
              "    .dataframe tbody tr th:only-of-type {\n",
              "        vertical-align: middle;\n",
              "    }\n",
              "\n",
              "    .dataframe tbody tr th {\n",
              "        vertical-align: top;\n",
              "    }\n",
              "\n",
              "    .dataframe thead tr th {\n",
              "        text-align: left;\n",
              "    }\n",
              "\n",
              "    .dataframe thead tr:last-of-type th {\n",
              "        text-align: right;\n",
              "    }\n",
              "</style>\n",
              "<table border=\"1\" class=\"dataframe\">\n",
              "  <thead>\n",
              "    <tr>\n",
              "      <th></th>\n",
              "      <th colspan=\"4\" halign=\"left\">Price</th>\n",
              "    </tr>\n",
              "    <tr>\n",
              "      <th></th>\n",
              "      <th>sum</th>\n",
              "      <th>min</th>\n",
              "      <th>max</th>\n",
              "      <th>count</th>\n",
              "    </tr>\n",
              "    <tr>\n",
              "      <th>Location</th>\n",
              "      <th></th>\n",
              "      <th></th>\n",
              "      <th></th>\n",
              "      <th></th>\n",
              "    </tr>\n",
              "  </thead>\n",
              "  <tbody>\n",
              "    <tr>\n",
              "      <th>Agra</th>\n",
              "      <td>14988999</td>\n",
              "      <td>220000</td>\n",
              "      <td>2425000</td>\n",
              "      <td>19</td>\n",
              "    </tr>\n",
              "    <tr>\n",
              "      <th>Ahmedabad</th>\n",
              "      <td>105507998</td>\n",
              "      <td>275000</td>\n",
              "      <td>8500000</td>\n",
              "      <td>70</td>\n",
              "    </tr>\n",
              "    <tr>\n",
              "      <th>Allahabad</th>\n",
              "      <td>2100000</td>\n",
              "      <td>275000</td>\n",
              "      <td>750000</td>\n",
              "      <td>4</td>\n",
              "    </tr>\n",
              "    <tr>\n",
              "      <th>Ambala Cantt</th>\n",
              "      <td>5020000</td>\n",
              "      <td>155000</td>\n",
              "      <td>725000</td>\n",
              "      <td>12</td>\n",
              "    </tr>\n",
              "    <tr>\n",
              "      <th>Amritsar</th>\n",
              "      <td>1935000</td>\n",
              "      <td>315000</td>\n",
              "      <td>725000</td>\n",
              "      <td>4</td>\n",
              "    </tr>\n",
              "    <tr>\n",
              "      <th>...</th>\n",
              "      <td>...</td>\n",
              "      <td>...</td>\n",
              "      <td>...</td>\n",
              "      <td>...</td>\n",
              "    </tr>\n",
              "    <tr>\n",
              "      <th>Valsad</th>\n",
              "      <td>580000</td>\n",
              "      <td>580000</td>\n",
              "      <td>580000</td>\n",
              "      <td>1</td>\n",
              "    </tr>\n",
              "    <tr>\n",
              "      <th>Varanasi</th>\n",
              "      <td>13414999</td>\n",
              "      <td>160000</td>\n",
              "      <td>1421000</td>\n",
              "      <td>24</td>\n",
              "    </tr>\n",
              "    <tr>\n",
              "      <th>Warangal</th>\n",
              "      <td>1545000</td>\n",
              "      <td>350000</td>\n",
              "      <td>695000</td>\n",
              "      <td>3</td>\n",
              "    </tr>\n",
              "    <tr>\n",
              "      <th>Yamunanagar</th>\n",
              "      <td>4765000</td>\n",
              "      <td>140000</td>\n",
              "      <td>1700000</td>\n",
              "      <td>6</td>\n",
              "    </tr>\n",
              "    <tr>\n",
              "      <th>Zirakpur</th>\n",
              "      <td>9984998</td>\n",
              "      <td>295000</td>\n",
              "      <td>1750000</td>\n",
              "      <td>15</td>\n",
              "    </tr>\n",
              "  </tbody>\n",
              "</table>\n",
              "<p>77 rows × 4 columns</p>\n",
              "</div>\n",
              "      <button class=\"colab-df-convert\" onclick=\"convertToInteractive('df-175ac486-de5e-4c1b-8250-46e2ba83299d')\"\n",
              "              title=\"Convert this dataframe to an interactive table.\"\n",
              "              style=\"display:none;\">\n",
              "        \n",
              "  <svg xmlns=\"http://www.w3.org/2000/svg\" height=\"24px\"viewBox=\"0 0 24 24\"\n",
              "       width=\"24px\">\n",
              "    <path d=\"M0 0h24v24H0V0z\" fill=\"none\"/>\n",
              "    <path d=\"M18.56 5.44l.94 2.06.94-2.06 2.06-.94-2.06-.94-.94-2.06-.94 2.06-2.06.94zm-11 1L8.5 8.5l.94-2.06 2.06-.94-2.06-.94L8.5 2.5l-.94 2.06-2.06.94zm10 10l.94 2.06.94-2.06 2.06-.94-2.06-.94-.94-2.06-.94 2.06-2.06.94z\"/><path d=\"M17.41 7.96l-1.37-1.37c-.4-.4-.92-.59-1.43-.59-.52 0-1.04.2-1.43.59L10.3 9.45l-7.72 7.72c-.78.78-.78 2.05 0 2.83L4 21.41c.39.39.9.59 1.41.59.51 0 1.02-.2 1.41-.59l7.78-7.78 2.81-2.81c.8-.78.8-2.07 0-2.86zM5.41 20L4 18.59l7.72-7.72 1.47 1.35L5.41 20z\"/>\n",
              "  </svg>\n",
              "      </button>\n",
              "      \n",
              "  <style>\n",
              "    .colab-df-container {\n",
              "      display:flex;\n",
              "      flex-wrap:wrap;\n",
              "      gap: 12px;\n",
              "    }\n",
              "\n",
              "    .colab-df-convert {\n",
              "      background-color: #E8F0FE;\n",
              "      border: none;\n",
              "      border-radius: 50%;\n",
              "      cursor: pointer;\n",
              "      display: none;\n",
              "      fill: #1967D2;\n",
              "      height: 32px;\n",
              "      padding: 0 0 0 0;\n",
              "      width: 32px;\n",
              "    }\n",
              "\n",
              "    .colab-df-convert:hover {\n",
              "      background-color: #E2EBFA;\n",
              "      box-shadow: 0px 1px 2px rgba(60, 64, 67, 0.3), 0px 1px 3px 1px rgba(60, 64, 67, 0.15);\n",
              "      fill: #174EA6;\n",
              "    }\n",
              "\n",
              "    [theme=dark] .colab-df-convert {\n",
              "      background-color: #3B4455;\n",
              "      fill: #D2E3FC;\n",
              "    }\n",
              "\n",
              "    [theme=dark] .colab-df-convert:hover {\n",
              "      background-color: #434B5C;\n",
              "      box-shadow: 0px 1px 3px 1px rgba(0, 0, 0, 0.15);\n",
              "      filter: drop-shadow(0px 1px 2px rgba(0, 0, 0, 0.3));\n",
              "      fill: #FFFFFF;\n",
              "    }\n",
              "  </style>\n",
              "\n",
              "      <script>\n",
              "        const buttonEl =\n",
              "          document.querySelector('#df-175ac486-de5e-4c1b-8250-46e2ba83299d button.colab-df-convert');\n",
              "        buttonEl.style.display =\n",
              "          google.colab.kernel.accessAllowed ? 'block' : 'none';\n",
              "\n",
              "        async function convertToInteractive(key) {\n",
              "          const element = document.querySelector('#df-175ac486-de5e-4c1b-8250-46e2ba83299d');\n",
              "          const dataTable =\n",
              "            await google.colab.kernel.invokeFunction('convertToInteractive',\n",
              "                                                     [key], {});\n",
              "          if (!dataTable) return;\n",
              "\n",
              "          const docLinkHtml = 'Like what you see? Visit the ' +\n",
              "            '<a target=\"_blank\" href=https://colab.research.google.com/notebooks/data_table.ipynb>data table notebook</a>'\n",
              "            + ' to learn more about interactive tables.';\n",
              "          element.innerHTML = '';\n",
              "          dataTable['output_type'] = 'display_data';\n",
              "          await google.colab.output.renderOutput(dataTable, element);\n",
              "          const docLink = document.createElement('div');\n",
              "          docLink.innerHTML = docLinkHtml;\n",
              "          element.appendChild(docLink);\n",
              "        }\n",
              "      </script>\n",
              "    </div>\n",
              "  </div>\n",
              "  "
            ]
          },
          "metadata": {},
          "execution_count": 37
        }
      ]
    },
    {
      "cell_type": "code",
      "source": [
        "#graph\n",
        "import matplotlib.pyplot as plt\n",
        "x=df['Fuel Tank Capacity']\n",
        "y=df['Kilometer']\n",
        "plt.plot(x,y,marker=0)"
      ],
      "metadata": {
        "colab": {
          "base_uri": "https://localhost:8080/",
          "height": 462
        },
        "id": "cdKJ7J6EipFK",
        "outputId": "ff9e5ae1-6b98-4cf7-a851-6907b339eb30"
      },
      "execution_count": null,
      "outputs": [
        {
          "output_type": "execute_result",
          "data": {
            "text/plain": [
              "[<matplotlib.lines.Line2D at 0x7f09f02d7490>]"
            ]
          },
          "metadata": {},
          "execution_count": 40
        },
        {
          "output_type": "display_data",
          "data": {
            "text/plain": [
              "<Figure size 640x480 with 1 Axes>"
            ],
            "image/png": "[encoded data removed]"
          },
          "metadata": {}
        }
      ]
    }
  ]
}